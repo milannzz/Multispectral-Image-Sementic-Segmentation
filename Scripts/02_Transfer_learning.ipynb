{
 "cells": [
  {
   "cell_type": "markdown",
   "metadata": {},
   "source": [
    "# Note for 02_train_rgb_finetuning.py"
   ]
  },
  {
   "cell_type": "markdown",
   "metadata": {},
   "source": [
    "###  Import libaries"
   ]
  },
  {
   "cell_type": "code",
   "execution_count": 1,
   "metadata": {},
   "outputs": [
    {
     "name": "stderr",
     "output_type": "stream",
     "text": [
      "d:\\Anaconda\\envs\\sate_3812\\lib\\site-packages\\skimage\\io\\manage_plugins.py:23: UserWarning: Your installed pillow version is < 8.1.2. Several security issues (CVE-2021-27921, CVE-2021-25290, CVE-2021-25291, CVE-2021-25293, and more) have been fixed in pillow 8.1.2 or higher. We recommend to upgrade this library.\n",
      "  from .collection import imread_collection_wrapper\n"
     ]
    }
   ],
   "source": [
    "import os\n",
    "import matplotlib.pyplot as plt\n",
    "\n",
    "from tensorflow.keras.preprocessing.image import ImageDataGenerator\n",
    "from tensorflow.keras.applications.vgg16 import VGG16 as VGG\n",
    "from tensorflow.keras.applications.densenet import DenseNet201 as DenseNet\n",
    "from tensorflow.keras.optimizers import SGD\n",
    "from tensorflow.keras.layers import GlobalAveragePooling2D, Dense\n",
    "from tensorflow.keras.models import Model\n",
    "from tensorflow.keras.callbacks import ModelCheckpoint, EarlyStopping, TensorBoard\n",
    "\n",
    "from image_functions import preprocessing_image_rgb"
   ]
  },
  {
   "cell_type": "markdown",
   "metadata": {},
   "source": [
    "### Define path to training and validation data"
   ]
  },
  {
   "cell_type": "code",
   "execution_count": 2,
   "metadata": {},
   "outputs": [],
   "source": [
    "# variables\n",
    "path_to_split_datasets = \"H:\\Multi-Spectral-Satelite-Image-Classification\\Dataset\\Processed_Data\"\n",
    "use_vgg = True\n",
    "batch_size = 32\n",
    "\n",
    "# contruct path\n",
    "path_to_home = os.path.expanduser(\"~\")\n",
    "path_to_split_datasets = path_to_split_datasets.replace(\"~\", path_to_home)\n",
    "path_to_train = os.path.join(path_to_split_datasets, \"train\")\n",
    "path_to_validation = os.path.join(path_to_split_datasets, \"validation\")"
   ]
  },
  {
   "cell_type": "markdown",
   "metadata": {},
   "source": [
    "### Determine number of classes from data"
   ]
  },
  {
   "cell_type": "code",
   "execution_count": 3,
   "metadata": {},
   "outputs": [],
   "source": [
    "# get number of classes\n",
    "sub_dirs = [sub_dir for sub_dir in os.listdir(path_to_train)\n",
    "            if os.path.isdir(os.path.join(path_to_train, sub_dir))]\n",
    "num_classes = len(sub_dirs)"
   ]
  },
  {
   "cell_type": "markdown",
   "metadata": {},
   "source": [
    "## Transfer-learning "
   ]
  },
  {
   "cell_type": "markdown",
   "metadata": {},
   "source": [
    "### 1. Pretrained network model without top layers"
   ]
  },
  {
   "cell_type": "code",
   "execution_count": 4,
   "metadata": {},
   "outputs": [],
   "source": [
    "# parameters for CNN\n",
    "if use_vgg:\n",
    "    base_model = VGG(include_top=False,\n",
    "                     weights='imagenet',\n",
    "                     input_shape=(64, 64, 3))\n",
    "else:\n",
    "    base_model = DenseNet(include_top=False,\n",
    "                          weights='imagenet',\n",
    "                          input_shape=(64, 64, 3))"
   ]
  },
  {
   "cell_type": "markdown",
   "metadata": {},
   "source": [
    "### 2. Define new top layers"
   ]
  },
  {
   "cell_type": "code",
   "execution_count": 5,
   "metadata": {},
   "outputs": [
    {
     "name": "stdout",
     "output_type": "stream",
     "text": [
      "Model: \"functional_1\"\n",
      "_________________________________________________________________\n",
      "Layer (type)                 Output Shape              Param #   \n",
      "=================================================================\n",
      "input_1 (InputLayer)         [(None, 64, 64, 3)]       0         \n",
      "_________________________________________________________________\n",
      "block1_conv1 (Conv2D)        (None, 64, 64, 64)        1792      \n",
      "_________________________________________________________________\n",
      "block1_conv2 (Conv2D)        (None, 64, 64, 64)        36928     \n",
      "_________________________________________________________________\n",
      "block1_pool (MaxPooling2D)   (None, 32, 32, 64)        0         \n",
      "_________________________________________________________________\n",
      "block2_conv1 (Conv2D)        (None, 32, 32, 128)       73856     \n",
      "_________________________________________________________________\n",
      "block2_conv2 (Conv2D)        (None, 32, 32, 128)       147584    \n",
      "_________________________________________________________________\n",
      "block2_pool (MaxPooling2D)   (None, 16, 16, 128)       0         \n",
      "_________________________________________________________________\n",
      "block3_conv1 (Conv2D)        (None, 16, 16, 256)       295168    \n",
      "_________________________________________________________________\n",
      "block3_conv2 (Conv2D)        (None, 16, 16, 256)       590080    \n",
      "_________________________________________________________________\n",
      "block3_conv3 (Conv2D)        (None, 16, 16, 256)       590080    \n",
      "_________________________________________________________________\n",
      "block3_pool (MaxPooling2D)   (None, 8, 8, 256)         0         \n",
      "_________________________________________________________________\n",
      "block4_conv1 (Conv2D)        (None, 8, 8, 512)         1180160   \n",
      "_________________________________________________________________\n",
      "block4_conv2 (Conv2D)        (None, 8, 8, 512)         2359808   \n",
      "_________________________________________________________________\n",
      "block4_conv3 (Conv2D)        (None, 8, 8, 512)         2359808   \n",
      "_________________________________________________________________\n",
      "block4_pool (MaxPooling2D)   (None, 4, 4, 512)         0         \n",
      "_________________________________________________________________\n",
      "block5_conv1 (Conv2D)        (None, 4, 4, 512)         2359808   \n",
      "_________________________________________________________________\n",
      "block5_conv2 (Conv2D)        (None, 4, 4, 512)         2359808   \n",
      "_________________________________________________________________\n",
      "block5_conv3 (Conv2D)        (None, 4, 4, 512)         2359808   \n",
      "_________________________________________________________________\n",
      "block5_pool (MaxPooling2D)   (None, 2, 2, 512)         0         \n",
      "_________________________________________________________________\n",
      "global_average_pooling2d (Gl (None, 512)               0         \n",
      "_________________________________________________________________\n",
      "dense (Dense)                (None, 2048)              1050624   \n",
      "_________________________________________________________________\n",
      "dense_1 (Dense)              (None, 2048)              4196352   \n",
      "_________________________________________________________________\n",
      "dense_2 (Dense)              (None, 3)                 6147      \n",
      "=================================================================\n",
      "Total params: 19,967,811\n",
      "Trainable params: 19,967,811\n",
      "Non-trainable params: 0\n",
      "_________________________________________________________________\n"
     ]
    }
   ],
   "source": [
    "# add a global spatial average pooling layer\n",
    "top_model = base_model.output\n",
    "top_model = GlobalAveragePooling2D()(top_model)\n",
    "# or just flatten the layers\n",
    "#    top_model = Flatten()(top_model)\n",
    "# let's add a fully-connected layer\n",
    "if use_vgg:\n",
    "    # only in VGG19 a fully connected nn is added for classfication\n",
    "    # DenseNet tends to overfitting if using additionally dense layers\n",
    "    top_model = Dense(2048, activation='relu')(top_model)\n",
    "    top_model = Dense(2048, activation='relu')(top_model)\n",
    "# and a logistic layer\n",
    "predictions = Dense(num_classes, activation='softmax')(top_model)\n",
    "\n",
    "# this is the model we will train\n",
    "model = Model(inputs=base_model.input, outputs=predictions)\n",
    "\n",
    "# print network structure\n",
    "model.summary()"
   ]
  },
  {
   "cell_type": "markdown",
   "metadata": {},
   "source": [
    "### 3. Define data augmentation"
   ]
  },
  {
   "cell_type": "code",
   "execution_count": 6,
   "metadata": {},
   "outputs": [
    {
     "name": "stdout",
     "output_type": "stream",
     "text": [
      "Found 1494 images belonging to 3 classes.\n",
      "{'building': 0, 'farmland': 1, 'forest': 2}\n",
      "Found 639 images belonging to 3 classes.\n"
     ]
    }
   ],
   "source": [
    "# defining ImageDataGenerators\n",
    "# ... initialization for training\n",
    "train_datagen = ImageDataGenerator(fill_mode=\"reflect\",\n",
    "                                   rotation_range=45,\n",
    "                                   horizontal_flip=True,\n",
    "                                   vertical_flip=True,\n",
    "                                   preprocessing_function=preprocessing_image_rgb)\n",
    "# ... initialization for validation\n",
    "test_datagen = ImageDataGenerator(preprocessing_function=preprocessing_image_rgb)\n",
    "# ... definition for training\n",
    "train_generator = train_datagen.flow_from_directory(path_to_train,\n",
    "                                                    target_size=(64, 64),\n",
    "                                                    batch_size=batch_size,\n",
    "                                                    class_mode='categorical')\n",
    "# just for information\n",
    "class_indices = train_generator.class_indices\n",
    "print(class_indices)\n",
    "\n",
    "# ... definition for validation\n",
    "validation_generator = test_datagen.flow_from_directory(path_to_validation,\n",
    "                                                        target_size=(64, 64),\n",
    "                                                        batch_size=batch_size,\n",
    "                                                        class_mode='categorical')\n",
    "\n"
   ]
  },
  {
   "cell_type": "markdown",
   "metadata": {},
   "source": [
    "### 4. Define callbacks"
   ]
  },
  {
   "cell_type": "code",
   "execution_count": 7,
   "metadata": {},
   "outputs": [],
   "source": [
    "# generate callback to save best model w.r.t val_categorical_accuracy\n",
    "if use_vgg:\n",
    "    file_name = \"vgg\"\n",
    "else:\n",
    "    file_name = \"dense\"\n",
    "\n",
    "checkpointer = ModelCheckpoint(\"H:\\Multi-Spectral-Satelite-Image-Classification\\Temp_Models\\M_\" + file_name +\n",
    "                               \"_rgb_transfer_init.\" +\n",
    "                               \"{epoch:02d}-{val_categorical_accuracy:.3f}.\" +\n",
    "                               \"hdf5\",\n",
    "                               monitor='val_categorical_accuracy',\n",
    "                               verbose=1,\n",
    "                               save_best_only=True,\n",
    "                               mode='max')\n",
    "\n",
    "earlystopper = EarlyStopping(monitor='val_categorical_accuracy',\n",
    "                             patience=10,\n",
    "                             mode='max',\n",
    "                             restore_best_weights=True)\n",
    "\n",
    "tensorboard = TensorBoard(log_dir='./logs', write_graph=True, \n",
    "                          write_images=True, update_freq='epoch')\n"
   ]
  },
  {
   "cell_type": "markdown",
   "metadata": {},
   "source": [
    "### 5. Set base layers non trainable "
   ]
  },
  {
   "cell_type": "code",
   "execution_count": 8,
   "metadata": {},
   "outputs": [],
   "source": [
    "# first: train only the top layers (which were randomly initialized)\n",
    "# i.e. freeze all convolutional layers\n",
    "for layer in base_model.layers:\n",
    "    layer.trainable = False\n",
    "\n",
    "# compile the model (should be done *after* setting layers to non-trainable)\n",
    "model.compile(optimizer='adadelta', loss='categorical_crossentropy',\n",
    "              metrics=['categorical_accuracy',\"Precision\",\"Recall\",\"TruePositives\",\"TrueNegatives\", \"FalsePositives\", \"FalseNegatives\"])"
   ]
  },
  {
   "cell_type": "markdown",
   "metadata": {},
   "source": [
    "### 6. Fit model (train new top layers)"
   ]
  },
  {
   "cell_type": "code",
   "execution_count": 9,
   "metadata": {},
   "outputs": [
    {
     "name": "stdout",
     "output_type": "stream",
     "text": [
      "Epoch 1/4\n",
      " 1/32 [..............................] - ETA: 0s - loss: 1.0988 - categorical_accuracy: 0.4375 - precision: 1.0000 - recall: 0.0312 - true_positives: 1.0000 - true_negatives: 64.0000 - false_positives: 0.0000e+00 - false_negatives: 31.0000WARNING:tensorflow:From d:\\Anaconda\\envs\\sate_3812\\lib\\site-packages\\tensorflow\\python\\ops\\summary_ops_v2.py:1277: stop (from tensorflow.python.eager.profiler) is deprecated and will be removed after 2020-07-01.\n",
      "Instructions for updating:\n",
      "use `tf.profiler.experimental.stop` instead.\n",
      " 2/32 [>.............................] - ETA: 31s - loss: 1.0841 - categorical_accuracy: 0.4375 - precision: 1.0000 - recall: 0.0156 - true_positives: 1.0000 - true_negatives: 128.0000 - false_positives: 0.0000e+00 - false_negatives: 63.0000WARNING:tensorflow:Callbacks method `on_train_batch_end` is slow compared to the batch time (batch time: 0.4119s vs `on_train_batch_end` time: 1.6586s). Check your callbacks.\n",
      "32/32 [==============================] - ETA: 0s - loss: 1.0802 - categorical_accuracy: 0.5117 - precision: 0.5000 - recall: 9.7656e-04 - true_positives: 1.0000 - true_negatives: 2047.0000 - false_positives: 1.0000 - false_negatives: 1023.0000\n",
      "Epoch 00001: val_categorical_accuracy improved from -inf to 0.57812, saving model to H:\\Multi-Spectral-Satelite-Image-Classification\\Temp_Models\\M_vgg_rgb_transfer_init.01-0.578.hdf5\n",
      "32/32 [==============================] - 34s 1s/step - loss: 1.0802 - categorical_accuracy: 0.5117 - precision: 0.5000 - recall: 9.7656e-04 - true_positives: 1.0000 - true_negatives: 2047.0000 - false_positives: 1.0000 - false_negatives: 1023.0000 - val_loss: 1.0481 - val_categorical_accuracy: 0.5781 - val_precision: 1.0000 - val_recall: 0.0078 - val_true_positives: 1.0000 - val_true_negatives: 256.0000 - val_false_positives: 0.0000e+00 - val_false_negatives: 127.0000\n",
      "Epoch 2/4\n",
      "32/32 [==============================] - ETA: 0s - loss: 1.0374 - categorical_accuracy: 0.5850 - precision: 0.7500 - recall: 0.0029 - true_positives: 3.0000 - true_negatives: 2047.0000 - false_positives: 1.0000 - false_negatives: 1021.0000\n",
      "Epoch 00002: val_categorical_accuracy improved from 0.57812 to 0.61719, saving model to H:\\Multi-Spectral-Satelite-Image-Classification\\Temp_Models\\M_vgg_rgb_transfer_init.02-0.617.hdf5\n",
      "32/32 [==============================] - 22s 685ms/step - loss: 1.0374 - categorical_accuracy: 0.5850 - precision: 0.7500 - recall: 0.0029 - true_positives: 3.0000 - true_negatives: 2047.0000 - false_positives: 1.0000 - false_negatives: 1021.0000 - val_loss: 1.0151 - val_categorical_accuracy: 0.6172 - val_precision: 1.0000 - val_recall: 0.0156 - val_true_positives: 2.0000 - val_true_negatives: 256.0000 - val_false_positives: 0.0000e+00 - val_false_negatives: 126.0000\n",
      "Epoch 3/4\n",
      "32/32 [==============================] - ETA: 0s - loss: 1.0019 - categorical_accuracy: 0.6292 - precision: 0.7500 - recall: 0.0030 - true_positives: 3.0000 - true_negatives: 2027.0000 - false_positives: 1.0000 - false_negatives: 1011.0000\n",
      "Epoch 00003: val_categorical_accuracy improved from 0.61719 to 0.67188, saving model to H:\\Multi-Spectral-Satelite-Image-Classification\\Temp_Models\\M_vgg_rgb_transfer_init.03-0.672.hdf5\n",
      "32/32 [==============================] - 20s 615ms/step - loss: 1.0019 - categorical_accuracy: 0.6292 - precision: 0.7500 - recall: 0.0030 - true_positives: 3.0000 - true_negatives: 2027.0000 - false_positives: 1.0000 - false_negatives: 1011.0000 - val_loss: 0.9803 - val_categorical_accuracy: 0.6719 - val_precision: 1.0000 - val_recall: 0.0391 - val_true_positives: 5.0000 - val_true_negatives: 256.0000 - val_false_positives: 0.0000e+00 - val_false_negatives: 123.0000\n",
      "Epoch 4/4\n",
      "32/32 [==============================] - ETA: 0s - loss: 0.9676 - categorical_accuracy: 0.7051 - precision: 1.0000 - recall: 0.0089 - true_positives: 9.0000 - true_negatives: 2028.0000 - false_positives: 0.0000e+00 - false_negatives: 1005.0000\n",
      "Epoch 00004: val_categorical_accuracy improved from 0.67188 to 0.70312, saving model to H:\\Multi-Spectral-Satelite-Image-Classification\\Temp_Models\\M_vgg_rgb_transfer_init.04-0.703.hdf5\n",
      "32/32 [==============================] - 19s 605ms/step - loss: 0.9676 - categorical_accuracy: 0.7051 - precision: 1.0000 - recall: 0.0089 - true_positives: 9.0000 - true_negatives: 2028.0000 - false_positives: 0.0000e+00 - false_negatives: 1005.0000 - val_loss: 0.9553 - val_categorical_accuracy: 0.7031 - val_precision: 1.0000 - val_recall: 0.0312 - val_true_positives: 4.0000 - val_true_negatives: 256.0000 - val_false_positives: 0.0000e+00 - val_false_negatives: 124.0000\n"
     ]
    }
   ],
   "source": [
    "history = model.fit(train_generator,\n",
    "                    steps_per_epoch=32,\n",
    "                    epochs=4,\n",
    "                    callbacks=[checkpointer, earlystopper,\n",
    "                               tensorboard],\n",
    "                    validation_data=validation_generator,\n",
    "                    validation_steps=4)\n",
    "initial_epoch = len(history.history['loss'])"
   ]
  },
  {
   "cell_type": "markdown",
   "metadata": {},
   "source": [
    "### Plotting Accuracy Curve for new layer"
   ]
  },
  {
   "cell_type": "code",
   "execution_count": 10,
   "metadata": {},
   "outputs": [
    {
     "data": {
      "image/png": "[encoded data removed]",
      "text/plain": [
       "<Figure size 432x288 with 1 Axes>"
      ]
     },
     "metadata": {
      "needs_background": "light"
     },
     "output_type": "display_data"
    },
    {
     "data": {
      "image/png": "[encoded data removed]",
      "text/plain": [
       "<Figure size 432x288 with 1 Axes>"
      ]
     },
     "metadata": {
      "needs_background": "light"
     },
     "output_type": "display_data"
    }
   ],
   "source": [
    "# summarize history for accuracy\n",
    "plt.plot(history.history['categorical_accuracy'])\n",
    "plt.plot(history.history['val_categorical_accuracy'])\n",
    "plt.title('model accuracy')\n",
    "plt.ylabel('accuracy')\n",
    "plt.xlabel('epoch')\n",
    "plt.legend(['train', 'test'], loc='upper left')\n",
    "plt.show()\n",
    "\n",
    "# summarize history for loss\n",
    "plt.plot(history.history['loss'])\n",
    "plt.plot(history.history['val_loss'])\n",
    "plt.title('model loss')\n",
    "plt.ylabel('loss')\n",
    "plt.xlabel('epoch')\n",
    "plt.legend(['train', 'test'], loc='upper left')\n",
    "plt.show()"
   ]
  },
  {
   "cell_type": "markdown",
   "metadata": {},
   "source": [
    "### 7. Setting base layers trainable"
   ]
  },
  {
   "cell_type": "code",
   "execution_count": 11,
   "metadata": {},
   "outputs": [
    {
     "name": "stdout",
     "output_type": "stream",
     "text": [
      "[0, 'input_1', False]\n",
      "[1, 'block1_conv1', False]\n",
      "[2, 'block1_conv2', False]\n",
      "[3, 'block1_pool', False]\n",
      "[4, 'block2_conv1', False]\n",
      "[5, 'block2_conv2', False]\n",
      "[6, 'block2_pool', False]\n",
      "[7, 'block3_conv1', False]\n",
      "[8, 'block3_conv2', False]\n",
      "[9, 'block3_conv3', False]\n",
      "[10, 'block3_pool', False]\n",
      "[11, 'block4_conv1', False]\n",
      "[12, 'block4_conv2', False]\n",
      "[13, 'block4_conv3', False]\n",
      "[14, 'block4_pool', False]\n",
      "[15, 'block5_conv1', False]\n",
      "[16, 'block5_conv2', False]\n",
      "[17, 'block5_conv3', False]\n",
      "[18, 'block5_pool', False]\n",
      "[19, 'global_average_pooling2d', True]\n",
      "[20, 'dense', True]\n",
      "[21, 'dense_1', True]\n",
      "[22, 'dense_2', True]\n"
     ]
    }
   ],
   "source": [
    "# at this point, the top layers are well trained and we can start fine-tuning\n",
    "# convolutional layers. We will freeze the bottom N layers\n",
    "# and train the remaining top layers.\n",
    "\n",
    "# let's visualize layer names and layer indices to see how many layers\n",
    "# we should freeze:\n",
    "names = []\n",
    "for i, layer in enumerate(model.layers):\n",
    "    print([i, layer.name, layer.trainable])\n",
    "\n",
    "if use_vgg:\n",
    "    # we will freaze the first convolutional block and train all\n",
    "    # remaining blocks, including top layers.\n",
    "    for layer in model.layers[:4]:\n",
    "        layer.trainable = False\n",
    "    for layer in model.layers[4:]:\n",
    "        layer.trainable = True\n",
    "else:\n",
    "    for layer in model.layers[:7]:\n",
    "        layer.trainable = False\n",
    "    for layer in model.layers[7:]:\n",
    "        layer.trainable = True\n",
    "\n",
    "# we need to recompile the model for these modifications to take effect\n",
    "# we use SGD with a low learning rate\n",
    "model.compile(optimizer=SGD(lr=0.0001, momentum=0.9),\n",
    "              loss='categorical_crossentropy',\n",
    "              metrics=['categorical_accuracy',\"Precision\",\"Recall\",\"TruePositives\",\"TrueNegatives\", \"FalsePositives\", \"FalseNegatives\"])"
   ]
  },
  {
   "cell_type": "markdown",
   "metadata": {},
   "source": [
    "### 8. Fit model (fine-tune base and top layers)"
   ]
  },
  {
   "cell_type": "code",
   "execution_count": 12,
   "metadata": {
    "scrolled": true
   },
   "outputs": [
    {
     "name": "stdout",
     "output_type": "stream",
     "text": [
      "Epoch 5/8\n",
      " 2/32 [>.............................] - ETA: 57s - loss: 0.9485 - categorical_accuracy: 0.7969 - precision: 0.0000e+00 - recall: 0.0000e+00 - true_positives: 0.0000e+00 - true_negatives: 128.0000 - false_positives: 0.0000e+00 - false_negatives: 64.0000WARNING:tensorflow:Callbacks method `on_train_batch_end` is slow compared to the batch time (batch time: 1.4726s vs `on_train_batch_end` time: 2.3553s). Check your callbacks.\n",
      "32/32 [==============================] - ETA: 0s - loss: 0.8747 - categorical_accuracy: 0.8232 - precision: 0.9944 - recall: 0.1729 - true_positives: 177.0000 - true_negatives: 2047.0000 - false_positives: 1.0000 - false_negatives: 847.0000\n",
      "Epoch 00005: val_categorical_accuracy improved from -inf to 0.82812, saving model to H:\\Multi-Spectral-Satelite-Image-Classification\\Temp_Models\\M_vgg_rgb_transfer_final.05-0.828.hdf5\n",
      "32/32 [==============================] - 63s 2s/step - loss: 0.8747 - categorical_accuracy: 0.8232 - precision: 0.9944 - recall: 0.1729 - true_positives: 177.0000 - true_negatives: 2047.0000 - false_positives: 1.0000 - false_negatives: 847.0000 - val_loss: 0.7613 - val_categorical_accuracy: 0.8281 - val_precision: 0.9811 - val_recall: 0.4062 - val_true_positives: 52.0000 - val_true_negatives: 255.0000 - val_false_positives: 1.0000 - val_false_negatives: 76.0000\n",
      "Epoch 6/8\n",
      "32/32 [==============================] - ETA: 0s - loss: 0.5975 - categorical_accuracy: 0.8856 - precision: 0.9640 - recall: 0.7120 - true_positives: 722.0000 - true_negatives: 2001.0000 - false_positives: 27.0000 - false_negatives: 292.0000\n",
      "Epoch 00006: val_categorical_accuracy improved from 0.82812 to 0.95312, saving model to H:\\Multi-Spectral-Satelite-Image-Classification\\Temp_Models\\M_vgg_rgb_transfer_final.06-0.953.hdf5\n",
      "32/32 [==============================] - 62s 2s/step - loss: 0.5975 - categorical_accuracy: 0.8856 - precision: 0.9640 - recall: 0.7120 - true_positives: 722.0000 - true_negatives: 2001.0000 - false_positives: 27.0000 - false_negatives: 292.0000 - val_loss: 0.3852 - val_categorical_accuracy: 0.9531 - val_precision: 0.9739 - val_recall: 0.8750 - val_true_positives: 112.0000 - val_true_negatives: 253.0000 - val_false_positives: 3.0000 - val_false_negatives: 16.0000\n",
      "Epoch 7/8\n",
      "32/32 [==============================] - ETA: 0s - loss: 0.3038 - categorical_accuracy: 0.9180 - precision: 0.9427 - recall: 0.8994 - true_positives: 921.0000 - true_negatives: 1992.0000 - false_positives: 56.0000 - false_negatives: 103.0000\n",
      "Epoch 00007: val_categorical_accuracy did not improve from 0.95312\n",
      "32/32 [==============================] - 57s 2s/step - loss: 0.3038 - categorical_accuracy: 0.9180 - precision: 0.9427 - recall: 0.8994 - true_positives: 921.0000 - true_negatives: 1992.0000 - false_positives: 56.0000 - false_negatives: 103.0000 - val_loss: 0.2749 - val_categorical_accuracy: 0.8984 - val_precision: 0.9127 - val_recall: 0.8984 - val_true_positives: 115.0000 - val_true_negatives: 245.0000 - val_false_positives: 11.0000 - val_false_negatives: 13.0000\n",
      "Epoch 8/8\n",
      "32/32 [==============================] - ETA: 0s - loss: 0.2018 - categorical_accuracy: 0.9310 - precision: 0.9425 - recall: 0.9221 - true_positives: 935.0000 - true_negatives: 1971.0000 - false_positives: 57.0000 - false_negatives: 79.0000\n",
      "Epoch 00008: val_categorical_accuracy did not improve from 0.95312\n",
      "32/32 [==============================] - 56s 2s/step - loss: 0.2018 - categorical_accuracy: 0.9310 - precision: 0.9425 - recall: 0.9221 - true_positives: 935.0000 - true_negatives: 1971.0000 - false_positives: 57.0000 - false_negatives: 79.0000 - val_loss: 0.1931 - val_categorical_accuracy: 0.9375 - val_precision: 0.9444 - val_recall: 0.9297 - val_true_positives: 119.0000 - val_true_negatives: 249.0000 - val_false_positives: 7.0000 - val_false_negatives: 9.0000\n"
     ]
    }
   ],
   "source": [
    "# generate callback to save best model w.r.t val_categorical_accuracy\n",
    "if use_vgg:\n",
    "    file_name = \"vgg\"\n",
    "else:\n",
    "    file_name = \"dense\"\n",
    "checkpointer = ModelCheckpoint(r\"H:\\Multi-Spectral-Satelite-Image-Classification\\Temp_Models\\M_\" + file_name +\n",
    "                               \"_rgb_transfer_final.\" +\n",
    "                               \"{epoch:02d}-{val_categorical_accuracy:.3f}\" +\n",
    "                               \".hdf5\",\n",
    "                               monitor='val_categorical_accuracy',\n",
    "                               verbose=1,\n",
    "                               save_best_only=True,\n",
    "                               mode='max')\n",
    "earlystopper = EarlyStopping(monitor='val_categorical_accuracy',\n",
    "                             patience=50,\n",
    "                             mode='max')\n",
    "history = model.fit(train_generator,\n",
    "          steps_per_epoch=32,\n",
    "          epochs=initial_epoch+4,\n",
    "          callbacks=[checkpointer, earlystopper, tensorboard],\n",
    "          validation_data=validation_generator,\n",
    "          validation_steps=4,\n",
    "          initial_epoch=initial_epoch)"
   ]
  },
  {
   "cell_type": "markdown",
   "metadata": {},
   "source": [
    "### Ploting Accuracy Curve Fine-tuned Model"
   ]
  },
  {
   "cell_type": "code",
   "execution_count": 13,
   "metadata": {},
   "outputs": [
    {
     "data": {
      "image/png": "[encoded data removed]",
      "text/plain": [
       "<Figure size 432x288 with 1 Axes>"
      ]
     },
     "metadata": {
      "needs_background": "light"
     },
     "output_type": "display_data"
    },
    {
     "data": {
      "image/png": "[encoded data removed]",
      "text/plain": [
       "<Figure size 432x288 with 1 Axes>"
      ]
     },
     "metadata": {
      "needs_background": "light"
     },
     "output_type": "display_data"
    }
   ],
   "source": [
    "# summarize history for accuracy\n",
    "plt.plot(history.history['categorical_accuracy'])\n",
    "plt.plot(history.history['val_categorical_accuracy'])\n",
    "plt.title('model accuracy')\n",
    "plt.ylabel('accuracy')\n",
    "plt.xlabel('epoch')\n",
    "plt.legend(['train', 'test'], loc='upper left')\n",
    "plt.show()\n",
    "\n",
    "# summarize history for loss\n",
    "plt.plot(history.history['loss'])\n",
    "plt.plot(history.history['val_loss'])\n",
    "plt.title('model loss')\n",
    "plt.ylabel('loss')\n",
    "plt.xlabel('epoch')\n",
    "plt.legend(['train', 'test'], loc='upper left')\n",
    "plt.show()\n"
   ]
  }
 ],
 "metadata": {
  "interpreter": {
   "hash": "058b364393286d6de07bf1aae006ba57d2c750015db9c74baed02e695b180e46"
  },
  "kernelspec": {
   "display_name": "Python 3.8.12 ('sate_3812')",
   "language": "python",
   "name": "python3"
  },
  "language_info": {
   "codemirror_mode": {
    "name": "ipython",
    "version": 3
   },
   "file_extension": ".py",
   "mimetype": "text/x-python",
   "name": "python",
   "nbconvert_exporter": "python",
   "pygments_lexer": "ipython3",
   "version": "3.8.12"
  },
  "varInspector": {
   "cols": {
    "lenName": 16,
    "lenType": 16,
    "lenVar": 40
   },
   "kernels_config": {
    "python": {
     "delete_cmd_postfix": "",
     "delete_cmd_prefix": "del ",
     "library": "var_list.py",
     "varRefreshCmd": "print(var_dic_list())"
    },
    "r": {
     "delete_cmd_postfix": ") ",
     "delete_cmd_prefix": "rm(",
     "library": "var_list.r",
     "varRefreshCmd": "cat(var_dic_list()) "
    }
   },
   "types_to_exclude": [
    "module",
    "function",
    "builtin_function_or_method",
    "instance",
    "_Feature"
   ],
   "window_display": false
  }
 },
 "nbformat": 4,
 "nbformat_minor": 2
}
